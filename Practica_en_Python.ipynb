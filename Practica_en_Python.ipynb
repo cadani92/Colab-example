{
  "nbformat": 4,
  "nbformat_minor": 0,
  "metadata": {
    "colab": {
      "name": "Practica en Python.ipynb",
      "provenance": [],
      "toc_visible": true,
      "collapsed_sections": [],
      "authorship_tag": "ABX9TyO2IrcLcZ7HYa9Yd4i07VG9",
      "include_colab_link": true
    },
    "kernelspec": {
      "name": "python3",
      "display_name": "Python 3"
    },
    "language_info": {
      "name": "python"
    }
  },
  "cells": [
    {
      "cell_type": "markdown",
      "metadata": {
        "id": "view-in-github",
        "colab_type": "text"
      },
      "source": [
        "<a href=\"https://colab.research.google.com/github/cadani92/Colab-example/blob/main/Practica_en_Python.ipynb\" target=\"_parent\"><img src=\"https://colab.research.google.com/assets/colab-badge.svg\" alt=\"Open In Colab\"/></a>"
      ]
    },
    {
      "cell_type": "code",
      "execution_count": 1,
      "metadata": {
        "colab": {
          "base_uri": "https://localhost:8080/"
        },
        "id": "vMhi94x7DpTl",
        "outputId": "a4cf4da6-62a2-4608-a59b-27199129e329"
      },
      "outputs": [
        {
          "output_type": "stream",
          "name": "stdout",
          "text": [
            "Hello World\n"
          ]
        }
      ],
      "source": [
        "\n",
        "print (\"Hello World\")\n"
      ]
    },
    {
      "cell_type": "code",
      "source": [
        "x = 5\n"
      ],
      "metadata": {
        "id": "rbcSGS_SGemu"
      },
      "execution_count": 2,
      "outputs": []
    },
    {
      "cell_type": "markdown",
      "source": [
        "# Definiendo Variables\n",
        "> En Python podemos crear una variable que almacene un número."
      ],
      "metadata": {
        "id": "hDjS-Axg2QsV"
      }
    },
    {
      "cell_type": "markdown",
      "source": [
        "x = 5\n",
        "print(5)"
      ],
      "metadata": {
        "id": "hzmQqA9v21ux"
      }
    },
    {
      "cell_type": "code",
      "source": [
        "a = 9\n",
        "b = 7"
      ],
      "metadata": {
        "id": "Vk8bh4Sy3CLz"
      },
      "execution_count": 5,
      "outputs": []
    },
    {
      "cell_type": "markdown",
      "source": [
        ">Ahora Python ya conoce a y b y sus respectivos valores. Podemos hacer uso de + para sumarlos, y una vez más de print() para mostrar su valor por pantalla."
      ],
      "metadata": {
        "id": "Tmjj7dKo3QyF"
      }
    },
    {
      "cell_type": "code",
      "source": [
        "a = 9\n",
        "b = 7\n",
        "print(a+b)"
      ],
      "metadata": {
        "colab": {
          "base_uri": "https://localhost:8080/"
        },
        "id": "CLflBFCz3ZoN",
        "outputId": "8e2d7f25-39c6-47b0-d5be-6bd5fa31de2a"
      },
      "execution_count": 6,
      "outputs": [
        {
          "output_type": "stream",
          "name": "stdout",
          "text": [
            "16\n"
          ]
        }
      ]
    },
    {
      "cell_type": "markdown",
      "source": [
        ""
      ],
      "metadata": {
        "id": "NoTt_grk3wHe"
      }
    },
    {
      "cell_type": "markdown",
      "source": [
        "# Decimales y Cadena de Texto\n",
        "> En Python no solo podemos usar número enteros también podemos utilizar números decimales y cadenas de texto."
      ],
      "metadata": {
        "id": "ig1nDvZA3wJI"
      }
    },
    {
      "cell_type": "code",
      "source": [
        "valor_decimal = 12.34\n",
        "print(valor_decimal)"
      ],
      "metadata": {
        "colab": {
          "base_uri": "https://localhost:8080/"
        },
        "id": "L_jaw-se3-sV",
        "outputId": "80274463-3b66-4328-ed56-c427648fd118"
      },
      "execution_count": 8,
      "outputs": [
        {
          "output_type": "stream",
          "name": "stdout",
          "text": [
            "12.34\n"
          ]
        }
      ]
    },
    {
      "cell_type": "code",
      "source": [
        "mi_cadena = \"Hola Mundo\"\n",
        "print(mi_cadena)"
      ],
      "metadata": {
        "colab": {
          "base_uri": "https://localhost:8080/"
        },
        "id": "rD4ZmbHF5Amp",
        "outputId": "35a90d93-3b04-4168-8707-77ad0084294e"
      },
      "execution_count": 10,
      "outputs": [
        {
          "output_type": "stream",
          "name": "stdout",
          "text": [
            "Hola Mundo\n"
          ]
        }
      ]
    },
    {
      "cell_type": "code",
      "source": [
        "valor1 = 12.34\n",
        "valor2 = 12.55\n",
        "print(valor1 + valor2)"
      ],
      "metadata": {
        "colab": {
          "base_uri": "https://localhost:8080/"
        },
        "id": "w-kwbyS75MUY",
        "outputId": "c5fa5712-703e-44ea-c74e-7a5a74d725c7"
      },
      "execution_count": 11,
      "outputs": [
        {
          "output_type": "stream",
          "name": "stdout",
          "text": [
            "24.89\n"
          ]
        }
      ]
    },
    {
      "cell_type": "code",
      "source": [
        "mi_cadena1 = \"Hola Mundo\"\n",
        "mi_cadena2 = \" esta es mi primera\"\n",
        "mi_cadena3 = \" cadena de texto.\"\n",
        "print(mi_cadena1 + mi_cadena2 + mi_cadena3)"
      ],
      "metadata": {
        "colab": {
          "base_uri": "https://localhost:8080/"
        },
        "id": "kV9IyuC_5XnS",
        "outputId": "a1a444c4-54b7-489a-f663-5dbf747b0d62"
      },
      "execution_count": 13,
      "outputs": [
        {
          "output_type": "stream",
          "name": "stdout",
          "text": [
            "Hola Mundo esta es mi primera cadena de texto.\n"
          ]
        }
      ]
    },
    {
      "cell_type": "markdown",
      "source": [
        "# Sintaxis\n",
        "> El termino sintaxis hace referencia al conjunto de reglas que definen como se tiene que escribir el código en un determinado lenguaje de programación."
      ],
      "metadata": {
        "id": "8DVQu7PO7b_w"
      }
    },
    {
      "cell_type": "markdown",
      "source": [
        "# Comentarios\n",
        "> En python podemos agregar comentarios para que nuestro código sea más legible y fácil de entender."
      ],
      "metadata": {
        "id": "DSajub0i70ni"
      }
    },
    {
      "cell_type": "code",
      "source": [
        "# podemos utilizar el simbolo # para escribir comentario\n",
        "# asignacion de la variable x\n",
        "x = 10\n",
        "print(10)"
      ],
      "metadata": {
        "colab": {
          "base_uri": "https://localhost:8080/"
        },
        "id": "P0wl2Ked8DUa",
        "outputId": "3c9ce14e-1acd-4e55-ce72-101c33fec40c"
      },
      "execution_count": 14,
      "outputs": [
        {
          "output_type": "stream",
          "name": "stdout",
          "text": [
            "10\n"
          ]
        }
      ]
    },
    {
      "cell_type": "markdown",
      "source": [
        "# Multiples lineas\n",
        "> En algunas situaciones se puede dar el caso de que queramos tener una sola instrucción en varias línea de código. Uno de los motivos principales podría ser que fuera demasiado larga, se recomienda que las líneas no excedan los 79 caracteres."
      ],
      "metadata": {
        "id": "kSEaVLVV8ofK"
      }
    },
    {
      "cell_type": "code",
      "source": [
        "x = 1 + 2 + 3 + 4 +\\\n",
        "    5 + 6 + 7 + 8"
      ],
      "metadata": {
        "id": "11rhLZnI8zrg"
      },
      "execution_count": null,
      "outputs": []
    },
    {
      "cell_type": "markdown",
      "source": [
        "> Si por lo contrario estamos dentro de un bloque rodeado con paréntesis (), bastaría con saltar a la siguiente línea."
      ],
      "metadata": {
        "id": "O3s8zYPz83hS"
      }
    },
    {
      "cell_type": "code",
      "source": [
        "x = (1 + 2 + 3 + 4 +\n",
        "     5 + 6 + 7 + 8)"
      ],
      "metadata": {
        "id": "nzb7-p_988Do"
      },
      "execution_count": null,
      "outputs": []
    },
    {
      "cell_type": "markdown",
      "source": [
        "# Condicional en Python\n",
        "> Gracias a las estructuras de control, podemos cambiar el flujo de ejecución de un programa, haciendo que ciertos bloques de código se ejecuten si y solo si se dan unas condicionales particulares."
      ],
      "metadata": {
        "id": "3napMsQyCx2z"
      }
    },
    {
      "cell_type": "markdown",
      "source": [
        "# Uso de if\n",
        "> Un ejemplo sería si tenemos dos valores a y b que queremos dividir. Antes de entrar en el bloque de código que divide a/b, sería importante verificar que b es distinto de cero, ya que la división por cero no está definida. Es aquí donde entran los condicionales if."
      ],
      "metadata": {
        "id": "mnXqHlnLDVki"
      }
    },
    {
      "cell_type": "code",
      "source": [
        "# Verifica si un número es par o impar\n",
        "x = 6\n",
        "if not x%2:\n",
        "    print(\"Es par\")\n",
        "else:\n",
        "    print(\"Es impar\")"
      ],
      "metadata": {
        "colab": {
          "base_uri": "https://localhost:8080/"
        },
        "id": "CMjryUHViVD2",
        "outputId": "3f9c8ea4-6c7f-4d9c-c41f-69ad6b8556b8"
      },
      "execution_count": 40,
      "outputs": [
        {
          "output_type": "stream",
          "name": "stdout",
          "text": [
            "Es par\n"
          ]
        }
      ]
    },
    {
      "cell_type": "code",
      "source": [
        "a = 4\n",
        "b = 2\n",
        "if b != 0:\n",
        "  print(a/b)"
      ],
      "metadata": {
        "colab": {
          "base_uri": "https://localhost:8080/"
        },
        "id": "7ZGP05MPDh8G",
        "outputId": "88ccab19-00fb-46b7-da5d-db31e88da830"
      },
      "execution_count": 15,
      "outputs": [
        {
          "output_type": "stream",
          "name": "stdout",
          "text": [
            "2.0\n"
          ]
        }
      ]
    },
    {
      "cell_type": "code",
      "source": [
        "a = 10\n",
        "b = 2\n",
        "if b != 0:\n",
        "  print(a*b)"
      ],
      "metadata": {
        "colab": {
          "base_uri": "https://localhost:8080/"
        },
        "id": "BAvfdje5EvmN",
        "outputId": "e6c57e38-5ab1-4436-bdb4-2eee1ad32615"
      },
      "execution_count": 16,
      "outputs": [
        {
          "output_type": "stream",
          "name": "stdout",
          "text": [
            "20\n"
          ]
        }
      ]
    },
    {
      "cell_type": "code",
      "source": [
        "John = 15 \n",
        "Julia = 10\n",
        "Mario = 11\n",
        "if Mario < John:\n",
        "  print(\"John es mayor\")\n"
      ],
      "metadata": {
        "colab": {
          "base_uri": "https://localhost:8080/"
        },
        "id": "4nLcHZw_FAhD",
        "outputId": "d7b4d935-1746-4e43-b8de-16faec6e641f"
      },
      "execution_count": 25,
      "outputs": [
        {
          "output_type": "stream",
          "name": "stdout",
          "text": [
            "John es mayor\n"
          ]
        }
      ]
    },
    {
      "cell_type": "markdown",
      "source": [
        "# Uso de else y elif\n",
        "Es posible que no solo queramos hacer algo si una determinada condición se cumple, sino que además queramos hacer algo de lo contrario. Es aquí donde entra la cláusula else. La parte del if se comporta de la manera que ya hemos explicado, con la diferencia que si esa condición no se cumple, se ejecutará el código presente dentro del else. Nótese que ambos bloque de código son excluyentes, se entra o en uno o en otro, pero nunca se ejecutarán los dos."
      ],
      "metadata": {
        "id": "pcjxv3jkffSD"
      }
    },
    {
      "cell_type": "code",
      "source": [
        ""
      ],
      "metadata": {
        "id": "zv3lPeqJgHBf"
      },
      "execution_count": null,
      "outputs": []
    },
    {
      "cell_type": "code",
      "source": [
        "x = 5\n",
        "if x == 5:\n",
        "  print(\"Es 5\")\n",
        "else:\n",
        "  print(\"No es 5\")"
      ],
      "metadata": {
        "colab": {
          "base_uri": "https://localhost:8080/"
        },
        "id": "FPnBlJIBfnRi",
        "outputId": "1a120f46-5f44-4e90-d833-4a55bab8522d"
      },
      "execution_count": 29,
      "outputs": [
        {
          "output_type": "stream",
          "name": "stdout",
          "text": [
            "Es 5\n"
          ]
        }
      ]
    },
    {
      "cell_type": "code",
      "source": [
        "x = 10\n",
        "if x == 5:\n",
        "  print(\"Es 5\")\n",
        "else:\n",
        "  print(\"No es 5\")"
      ],
      "metadata": {
        "colab": {
          "base_uri": "https://localhost:8080/"
        },
        "id": "SgApsYsDf6xf",
        "outputId": "657f24e4-abec-4194-eed6-48bb11620521"
      },
      "execution_count": 30,
      "outputs": [
        {
          "output_type": "stream",
          "name": "stdout",
          "text": [
            "No es 5\n"
          ]
        }
      ]
    },
    {
      "cell_type": "markdown",
      "source": [
        "> En muchos casos, podemos tener varias condiciones diferentes y para cada una queremos un código distinto. Es aquí donde entra en juego el elif."
      ],
      "metadata": {
        "id": "dKuS4AzdgBv0"
      }
    },
    {
      "cell_type": "code",
      "source": [
        "x = 7\n",
        "if x == 5:\n",
        "  print(\"Es 5\")\n",
        "elif x == 6:\n",
        "  print(\"Es 6\")\n",
        "elif x == 7:\n",
        "  print(\"Es 7\")"
      ],
      "metadata": {
        "colab": {
          "base_uri": "https://localhost:8080/"
        },
        "id": "xyd3a2dYgJYl",
        "outputId": "39f16423-68d2-47ea-d468-3542721765b2"
      },
      "execution_count": 33,
      "outputs": [
        {
          "output_type": "stream",
          "name": "stdout",
          "text": [
            "Es 7\n"
          ]
        }
      ]
    },
    {
      "cell_type": "code",
      "source": [
        "x = 15\n",
        "if x == 5:\n",
        "    print(\"Es 5\")\n",
        "elif x == 6:\n",
        "    print(\"Es 6\")\n",
        "elif x == 7:\n",
        "    print(\"Es 7\")\n",
        "else:\n",
        "    print(\"Es otro\")"
      ],
      "metadata": {
        "colab": {
          "base_uri": "https://localhost:8080/"
        },
        "id": "urZIBRf7gqKh",
        "outputId": "8009ce46-19a6-41c6-fb9a-c9f2b0a5a7f5"
      },
      "execution_count": 34,
      "outputs": [
        {
          "output_type": "stream",
          "name": "stdout",
          "text": [
            "Es otro\n"
          ]
        }
      ]
    },
    {
      "cell_type": "markdown",
      "source": [
        "# Operador ternario\n",
        "> El operador ternario o ternary operator es una herramienta muy potente se rata de una cláusula if, else que se define en una sola línea y puede ser usado por ejemplo, dentro de un print()"
      ],
      "metadata": {
        "id": "sIPqXkzqg8zb"
      }
    },
    {
      "cell_type": "code",
      "source": [
        "# # [código si se cumple] if [condición] else [código si no se cumple]\n",
        "x = 5\n",
        "print(\" Es 5\" if x == 5 else \"No es 5\" )"
      ],
      "metadata": {
        "colab": {
          "base_uri": "https://localhost:8080/"
        },
        "id": "3pF6PMWOhLCT",
        "outputId": "c66c0777-0d92-4fb7-912f-f6b4e0449305"
      },
      "execution_count": 35,
      "outputs": [
        {
          "output_type": "stream",
          "name": "stdout",
          "text": [
            " Es 5\n"
          ]
        }
      ]
    },
    {
      "cell_type": "code",
      "source": [
        "a = 20\n",
        "b = 2\n",
        "c = a/b if b!=0 else -1\n",
        "print(c)"
      ],
      "metadata": {
        "colab": {
          "base_uri": "https://localhost:8080/"
        },
        "id": "VFGVlrERhf4v",
        "outputId": "9b92e21a-2a27-47fb-c937-9ec946e63571"
      },
      "execution_count": 39,
      "outputs": [
        {
          "output_type": "stream",
          "name": "stdout",
          "text": [
            "10.0\n"
          ]
        }
      ]
    },
    {
      "cell_type": "code",
      "source": [
        "# Decrementa x en 1 unidad si es mayor que cero\n",
        "x = 5\n",
        "x-=1 if x>0 else x\n",
        "print(x)"
      ],
      "metadata": {
        "colab": {
          "base_uri": "https://localhost:8080/"
        },
        "id": "qs-lp0zFiZjD",
        "outputId": "67930762-4a6c-4914-ab4c-c24b5bcbb3b9"
      },
      "execution_count": 45,
      "outputs": [
        {
          "output_type": "stream",
          "name": "stdout",
          "text": [
            "4\n"
          ]
        }
      ]
    }
  ]
}