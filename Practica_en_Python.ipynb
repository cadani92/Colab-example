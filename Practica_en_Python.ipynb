{
  "nbformat": 4,
  "nbformat_minor": 0,
  "metadata": {
    "colab": {
      "name": "Practica en Python.ipynb",
      "provenance": [],
      "collapsed_sections": [],
      "authorship_tag": "ABX9TyOSS+E0LDmY3S/LT1ricLXS",
      "include_colab_link": true
    },
    "kernelspec": {
      "name": "python3",
      "display_name": "Python 3"
    },
    "language_info": {
      "name": "python"
    }
  },
  "cells": [
    {
      "cell_type": "markdown",
      "metadata": {
        "id": "view-in-github",
        "colab_type": "text"
      },
      "source": [
        "<a href=\"https://colab.research.google.com/github/cadani92/Colab-example/blob/main/Practica_en_Python.ipynb\" target=\"_parent\"><img src=\"https://colab.research.google.com/assets/colab-badge.svg\" alt=\"Open In Colab\"/></a>"
      ]
    },
    {
      "cell_type": "code",
      "execution_count": null,
      "metadata": {
        "colab": {
          "base_uri": "https://localhost:8080/"
        },
        "id": "vMhi94x7DpTl",
        "outputId": "a4cf4da6-62a2-4608-a59b-27199129e329"
      },
      "outputs": [
        {
          "output_type": "stream",
          "name": "stdout",
          "text": [
            "Hello World\n"
          ]
        }
      ],
      "source": [
        "\n",
        "print (\"Hello World\")\n"
      ]
    },
    {
      "cell_type": "markdown",
      "source": [
        ""
      ],
      "metadata": {
        "id": "-D33_ncERqTa"
      }
    },
    {
      "cell_type": "code",
      "source": [
        "x = 5\n"
      ],
      "metadata": {
        "id": "rbcSGS_SGemu"
      },
      "execution_count": null,
      "outputs": []
    },
    {
      "cell_type": "markdown",
      "source": [
        "# Definiendo Variables\n",
        "> En Python podemos crear una variable que almacene un número."
      ],
      "metadata": {
        "id": "hDjS-Axg2QsV"
      }
    },
    {
      "cell_type": "markdown",
      "source": [
        "x = 5\n",
        "print(5)"
      ],
      "metadata": {
        "id": "hzmQqA9v21ux"
      }
    },
    {
      "cell_type": "code",
      "source": [
        "a = 9\n",
        "b = 7"
      ],
      "metadata": {
        "id": "Vk8bh4Sy3CLz"
      },
      "execution_count": null,
      "outputs": []
    },
    {
      "cell_type": "markdown",
      "source": [
        ">Ahora Python ya conoce a y b y sus respectivos valores. Podemos hacer uso de + para sumarlos, y una vez más de print() para mostrar su valor por pantalla."
      ],
      "metadata": {
        "id": "Tmjj7dKo3QyF"
      }
    },
    {
      "cell_type": "code",
      "source": [
        "a = 9\n",
        "b = 7\n",
        "print(a+b)"
      ],
      "metadata": {
        "colab": {
          "base_uri": "https://localhost:8080/"
        },
        "id": "CLflBFCz3ZoN",
        "outputId": "8e2d7f25-39c6-47b0-d5be-6bd5fa31de2a"
      },
      "execution_count": null,
      "outputs": [
        {
          "output_type": "stream",
          "name": "stdout",
          "text": [
            "16\n"
          ]
        }
      ]
    },
    {
      "cell_type": "markdown",
      "source": [
        ""
      ],
      "metadata": {
        "id": "NoTt_grk3wHe"
      }
    },
    {
      "cell_type": "markdown",
      "source": [
        "# Decimales y Cadena de Texto\n",
        "> En Python no solo podemos usar número enteros también podemos utilizar números decimales y cadenas de texto."
      ],
      "metadata": {
        "id": "ig1nDvZA3wJI"
      }
    },
    {
      "cell_type": "code",
      "source": [
        "valor_decimal = 12.34\n",
        "print(valor_decimal)"
      ],
      "metadata": {
        "colab": {
          "base_uri": "https://localhost:8080/"
        },
        "id": "L_jaw-se3-sV",
        "outputId": "80274463-3b66-4328-ed56-c427648fd118"
      },
      "execution_count": null,
      "outputs": [
        {
          "output_type": "stream",
          "name": "stdout",
          "text": [
            "12.34\n"
          ]
        }
      ]
    },
    {
      "cell_type": "code",
      "source": [
        "mi_cadena = \"Hola Mundo\"\n",
        "print(mi_cadena)"
      ],
      "metadata": {
        "colab": {
          "base_uri": "https://localhost:8080/"
        },
        "id": "rD4ZmbHF5Amp",
        "outputId": "35a90d93-3b04-4168-8707-77ad0084294e"
      },
      "execution_count": null,
      "outputs": [
        {
          "output_type": "stream",
          "name": "stdout",
          "text": [
            "Hola Mundo\n"
          ]
        }
      ]
    },
    {
      "cell_type": "code",
      "source": [
        "valor1 = 12.34\n",
        "valor2 = 12.55\n",
        "print(valor1 + valor2)"
      ],
      "metadata": {
        "colab": {
          "base_uri": "https://localhost:8080/"
        },
        "id": "w-kwbyS75MUY",
        "outputId": "c5fa5712-703e-44ea-c74e-7a5a74d725c7"
      },
      "execution_count": null,
      "outputs": [
        {
          "output_type": "stream",
          "name": "stdout",
          "text": [
            "24.89\n"
          ]
        }
      ]
    },
    {
      "cell_type": "code",
      "source": [
        "mi_cadena1 = \"Hola Mundo\"\n",
        "mi_cadena2 = \" esta es mi primera\"\n",
        "mi_cadena3 = \" cadena de texto.\"\n",
        "print(mi_cadena1 + mi_cadena2 + mi_cadena3)"
      ],
      "metadata": {
        "colab": {
          "base_uri": "https://localhost:8080/"
        },
        "id": "kV9IyuC_5XnS",
        "outputId": "a1a444c4-54b7-489a-f663-5dbf747b0d62"
      },
      "execution_count": null,
      "outputs": [
        {
          "output_type": "stream",
          "name": "stdout",
          "text": [
            "Hola Mundo esta es mi primera cadena de texto.\n"
          ]
        }
      ]
    },
    {
      "cell_type": "markdown",
      "source": [
        "# Sintaxis\n",
        "> El termino sintaxis hace referencia al conjunto de reglas que definen como se tiene que escribir el código en un determinado lenguaje de programación."
      ],
      "metadata": {
        "id": "8DVQu7PO7b_w"
      }
    },
    {
      "cell_type": "markdown",
      "source": [
        "# Comentarios\n",
        "> En python podemos agregar comentarios para que nuestro código sea más legible y fácil de entender."
      ],
      "metadata": {
        "id": "DSajub0i70ni"
      }
    },
    {
      "cell_type": "code",
      "source": [
        "# podemos utilizar el simbolo # para escribir comentario\n",
        "# asignacion de la variable x\n",
        "x = 10\n",
        "print(10)"
      ],
      "metadata": {
        "colab": {
          "base_uri": "https://localhost:8080/"
        },
        "id": "P0wl2Ked8DUa",
        "outputId": "3c9ce14e-1acd-4e55-ce72-101c33fec40c"
      },
      "execution_count": null,
      "outputs": [
        {
          "output_type": "stream",
          "name": "stdout",
          "text": [
            "10\n"
          ]
        }
      ]
    },
    {
      "cell_type": "markdown",
      "source": [
        "# Multiples lineas\n",
        "> En algunas situaciones se puede dar el caso de que queramos tener una sola instrucción en varias línea de código. Uno de los motivos principales podría ser que fuera demasiado larga, se recomienda que las líneas no excedan los 79 caracteres."
      ],
      "metadata": {
        "id": "kSEaVLVV8ofK"
      }
    },
    {
      "cell_type": "code",
      "source": [
        "x = 1 + 2 + 3 + 4 +\\\n",
        "    5 + 6 + 7 + 8"
      ],
      "metadata": {
        "id": "11rhLZnI8zrg"
      },
      "execution_count": null,
      "outputs": []
    },
    {
      "cell_type": "markdown",
      "source": [
        "> Si por lo contrario estamos dentro de un bloque rodeado con paréntesis (), bastaría con saltar a la siguiente línea."
      ],
      "metadata": {
        "id": "O3s8zYPz83hS"
      }
    },
    {
      "cell_type": "code",
      "source": [
        "x = (1 + 2 + 3 + 4 +\n",
        "     5 + 6 + 7 + 8)"
      ],
      "metadata": {
        "id": "nzb7-p_988Do"
      },
      "execution_count": null,
      "outputs": []
    },
    {
      "cell_type": "markdown",
      "source": [
        "# Condicional en Python\n",
        "> Gracias a las estructuras de control, podemos cambiar el flujo de ejecución de un programa, haciendo que ciertos bloques de código se ejecuten si y solo si se dan unas condicionales particulares."
      ],
      "metadata": {
        "id": "3napMsQyCx2z"
      }
    },
    {
      "cell_type": "markdown",
      "source": [
        "# Uso de if\n",
        "> Un ejemplo sería si tenemos dos valores a y b que queremos dividir. Antes de entrar en el bloque de código que divide a/b, sería importante verificar que b es distinto de cero, ya que la división por cero no está definida. Es aquí donde entran los condicionales if."
      ],
      "metadata": {
        "id": "mnXqHlnLDVki"
      }
    },
    {
      "cell_type": "code",
      "source": [
        "# Verifica si un número es par o impar\n",
        "x = 6\n",
        "if not x%2:\n",
        "    print(\"Es par\")\n",
        "else:\n",
        "    print(\"Es impar\")"
      ],
      "metadata": {
        "colab": {
          "base_uri": "https://localhost:8080/"
        },
        "id": "CMjryUHViVD2",
        "outputId": "3f9c8ea4-6c7f-4d9c-c41f-69ad6b8556b8"
      },
      "execution_count": null,
      "outputs": [
        {
          "output_type": "stream",
          "name": "stdout",
          "text": [
            "Es par\n"
          ]
        }
      ]
    },
    {
      "cell_type": "code",
      "source": [
        "a = 4\n",
        "b = 2\n",
        "if b != 0:\n",
        "  print(a/b)"
      ],
      "metadata": {
        "colab": {
          "base_uri": "https://localhost:8080/"
        },
        "id": "7ZGP05MPDh8G",
        "outputId": "88ccab19-00fb-46b7-da5d-db31e88da830"
      },
      "execution_count": null,
      "outputs": [
        {
          "output_type": "stream",
          "name": "stdout",
          "text": [
            "2.0\n"
          ]
        }
      ]
    },
    {
      "cell_type": "code",
      "source": [
        "a = 10\n",
        "b = 2\n",
        "if b != 0:\n",
        "  print(a*b)"
      ],
      "metadata": {
        "colab": {
          "base_uri": "https://localhost:8080/"
        },
        "id": "BAvfdje5EvmN",
        "outputId": "e6c57e38-5ab1-4436-bdb4-2eee1ad32615"
      },
      "execution_count": null,
      "outputs": [
        {
          "output_type": "stream",
          "name": "stdout",
          "text": [
            "20\n"
          ]
        }
      ]
    },
    {
      "cell_type": "code",
      "source": [
        "John = 15 \n",
        "Julia = 10\n",
        "Mario = 11\n",
        "if Mario < John:\n",
        "  print(\"John es mayor\")\n"
      ],
      "metadata": {
        "colab": {
          "base_uri": "https://localhost:8080/"
        },
        "id": "4nLcHZw_FAhD",
        "outputId": "d7b4d935-1746-4e43-b8de-16faec6e641f"
      },
      "execution_count": null,
      "outputs": [
        {
          "output_type": "stream",
          "name": "stdout",
          "text": [
            "John es mayor\n"
          ]
        }
      ]
    },
    {
      "cell_type": "markdown",
      "source": [
        "# Uso de else y elif\n",
        "Es posible que no solo queramos hacer algo si una determinada condición se cumple, sino que además queramos hacer algo de lo contrario. Es aquí donde entra la cláusula else. La parte del if se comporta de la manera que ya hemos explicado, con la diferencia que si esa condición no se cumple, se ejecutará el código presente dentro del else. Nótese que ambos bloque de código son excluyentes, se entra o en uno o en otro, pero nunca se ejecutarán los dos."
      ],
      "metadata": {
        "id": "pcjxv3jkffSD"
      }
    },
    {
      "cell_type": "code",
      "source": [
        ""
      ],
      "metadata": {
        "id": "zv3lPeqJgHBf"
      },
      "execution_count": null,
      "outputs": []
    },
    {
      "cell_type": "code",
      "source": [
        "x = 5\n",
        "if x == 5:\n",
        "  print(\"Es 5\")\n",
        "else:\n",
        "  print(\"No es 5\")"
      ],
      "metadata": {
        "colab": {
          "base_uri": "https://localhost:8080/"
        },
        "id": "FPnBlJIBfnRi",
        "outputId": "1a120f46-5f44-4e90-d833-4a55bab8522d"
      },
      "execution_count": null,
      "outputs": [
        {
          "output_type": "stream",
          "name": "stdout",
          "text": [
            "Es 5\n"
          ]
        }
      ]
    },
    {
      "cell_type": "code",
      "source": [
        "x = 10\n",
        "if x == 5:\n",
        "  print(\"Es 5\")\n",
        "else:\n",
        "  print(\"No es 5\")"
      ],
      "metadata": {
        "colab": {
          "base_uri": "https://localhost:8080/"
        },
        "id": "SgApsYsDf6xf",
        "outputId": "657f24e4-abec-4194-eed6-48bb11620521"
      },
      "execution_count": null,
      "outputs": [
        {
          "output_type": "stream",
          "name": "stdout",
          "text": [
            "No es 5\n"
          ]
        }
      ]
    },
    {
      "cell_type": "markdown",
      "source": [
        "> En muchos casos, podemos tener varias condiciones diferentes y para cada una queremos un código distinto. Es aquí donde entra en juego el elif."
      ],
      "metadata": {
        "id": "dKuS4AzdgBv0"
      }
    },
    {
      "cell_type": "code",
      "source": [
        "x = 7\n",
        "if x == 5:\n",
        "  print(\"Es 5\")\n",
        "elif x == 6:\n",
        "  print(\"Es 6\")\n",
        "elif x == 7:\n",
        "  print(\"Es 7\")"
      ],
      "metadata": {
        "colab": {
          "base_uri": "https://localhost:8080/"
        },
        "id": "xyd3a2dYgJYl",
        "outputId": "39f16423-68d2-47ea-d468-3542721765b2"
      },
      "execution_count": null,
      "outputs": [
        {
          "output_type": "stream",
          "name": "stdout",
          "text": [
            "Es 7\n"
          ]
        }
      ]
    },
    {
      "cell_type": "code",
      "source": [
        "x = 15\n",
        "if x == 5:\n",
        "    print(\"Es 5\")\n",
        "elif x == 6:\n",
        "    print(\"Es 6\")\n",
        "elif x == 7:\n",
        "    print(\"Es 7\")\n",
        "else:\n",
        "    print(\"Es otro\")"
      ],
      "metadata": {
        "colab": {
          "base_uri": "https://localhost:8080/"
        },
        "id": "urZIBRf7gqKh",
        "outputId": "8009ce46-19a6-41c6-fb9a-c9f2b0a5a7f5"
      },
      "execution_count": null,
      "outputs": [
        {
          "output_type": "stream",
          "name": "stdout",
          "text": [
            "Es otro\n"
          ]
        }
      ]
    },
    {
      "cell_type": "markdown",
      "source": [
        "# Operador ternario\n",
        "> El operador ternario o ternary operator es una herramienta muy potente se rata de una cláusula if, else que se define en una sola línea y puede ser usado por ejemplo, dentro de un print()"
      ],
      "metadata": {
        "id": "sIPqXkzqg8zb"
      }
    },
    {
      "cell_type": "code",
      "source": [
        "# # [código si se cumple] if [condición] else [código si no se cumple]\n",
        "x = 5\n",
        "print(\" Es 5\" if x == 5 else \"No es 5\" )"
      ],
      "metadata": {
        "colab": {
          "base_uri": "https://localhost:8080/"
        },
        "id": "3pF6PMWOhLCT",
        "outputId": "c66c0777-0d92-4fb7-912f-f6b4e0449305"
      },
      "execution_count": null,
      "outputs": [
        {
          "output_type": "stream",
          "name": "stdout",
          "text": [
            " Es 5\n"
          ]
        }
      ]
    },
    {
      "cell_type": "code",
      "source": [
        "a = 20\n",
        "b = 2\n",
        "c = a/b if b!=0 else -1\n",
        "print(c)"
      ],
      "metadata": {
        "colab": {
          "base_uri": "https://localhost:8080/"
        },
        "id": "VFGVlrERhf4v",
        "outputId": "9b92e21a-2a27-47fb-c937-9ec946e63571"
      },
      "execution_count": null,
      "outputs": [
        {
          "output_type": "stream",
          "name": "stdout",
          "text": [
            "10.0\n"
          ]
        }
      ]
    },
    {
      "cell_type": "code",
      "source": [
        "# Decrementa x en 1 unidad si es mayor que cero\n",
        "x = 5\n",
        "x-=1 if x>0 else x\n",
        "print(x)"
      ],
      "metadata": {
        "colab": {
          "base_uri": "https://localhost:8080/"
        },
        "id": "qs-lp0zFiZjD",
        "outputId": "67930762-4a6c-4914-ab4c-c24b5bcbb3b9"
      },
      "execution_count": null,
      "outputs": [
        {
          "output_type": "stream",
          "name": "stdout",
          "text": [
            "4\n"
          ]
        }
      ]
    },
    {
      "cell_type": "markdown",
      "source": [
        "# Bucle for\n",
        "> La principal es que el número de iteraciones de un for esta definido de antemano, mientras que en un while no. La diferencia principal con respecto al while es en la condición. Mientras que en el while la condición era evaluada en cada iteración para decidir si volver a ejecutar o no el código, en el for no existe tal condición, sino un iterable que define las veces que se ejecutará el código. "
      ],
      "metadata": {
        "id": "jmZZXGRyJ5lO"
      }
    },
    {
      "cell_type": "markdown",
      "source": [
        "for i in range(0, 5):\n",
        "  print(i)"
      ],
      "metadata": {
        "id": "czxQ4n4eKO65"
      }
    },
    {
      "cell_type": "code",
      "source": [
        "for i in \"Python\":\n",
        "  print(i)"
      ],
      "metadata": {
        "colab": {
          "base_uri": "https://localhost:8080/"
        },
        "id": "k2Vi2tZUKypj",
        "outputId": "a9fe71be-e7d0-42e9-d928-4c958de240d8"
      },
      "execution_count": null,
      "outputs": [
        {
          "output_type": "stream",
          "name": "stdout",
          "text": [
            "P\n",
            "y\n",
            "t\n",
            "h\n",
            "o\n",
            "n\n"
          ]
        }
      ]
    },
    {
      "cell_type": "code",
      "source": [
        "for i in range(0, 10):\n",
        "  print(i)"
      ],
      "metadata": {
        "colab": {
          "base_uri": "https://localhost:8080/"
        },
        "id": "_GfhPYw-K9jX",
        "outputId": "a7273352-7ef2-4f98-a1fb-a972b5419676"
      },
      "execution_count": null,
      "outputs": [
        {
          "output_type": "stream",
          "name": "stdout",
          "text": [
            "0\n",
            "1\n",
            "2\n",
            "3\n",
            "4\n",
            "5\n",
            "6\n",
            "7\n",
            "8\n",
            "9\n"
          ]
        }
      ]
    },
    {
      "cell_type": "markdown",
      "source": [
        "# Iterables e iteradores\n",
        "\n",
        "\n",
        "> Los iterables son aquellos objetos que como su nombre indica pueden ser iterados, lo que dicho de otra forma es, que puede ser indexados. Si piensas en un array( o una list en Python), podemos indexarlo con list[1] por ejemplo, por lo que sería iterable. Algunos ejemplos de iterables en Python son las listas, tuplas, cadenas o diccionarios. \n",
        "\n",
        "> Los iteradores son objetos que hacen referencia a un elemento, y que tienen un método next que permite hacer referencia al siguiente.\n",
        "\n"
      ],
      "metadata": {
        "id": "Ck7sobueLWFm"
      }
    },
    {
      "cell_type": "code",
      "source": [
        "#numero no es iterable\n",
        "numero = 10\n",
        "#for i in numero:\n",
        "#    print(i)\n"
      ],
      "metadata": {
        "id": "_VJcPNy9VFAV"
      },
      "execution_count": null,
      "outputs": []
    },
    {
      "cell_type": "code",
      "source": [
        "#Las listas, tuplas y diccionarios si son iterables\n",
        "lista = [5, 6, 3, 2]\n",
        "it = iter(lista)\n",
        "print(it)       #<list_iterator object at 0x106243828>\n",
        "print(type(it)) #<class 'list_iterator'>"
      ],
      "metadata": {
        "colab": {
          "base_uri": "https://localhost:8080/"
        },
        "id": "g8QZb0D_VV_h",
        "outputId": "a4ec8a70-e024-4cb0-b8c9-018ac77a4ccd"
      },
      "execution_count": null,
      "outputs": [
        {
          "output_type": "stream",
          "name": "stdout",
          "text": [
            "<list_iterator object at 0x7fb8ea8ec350>\n",
            "<class 'list_iterator'>\n"
          ]
        }
      ]
    },
    {
      "cell_type": "markdown",
      "source": [
        "Para saber mas: Existen otros iteradores para diferentes clases:\n",
        "\n",
        "* str_iterator para cadenas\n",
        "* list_iterator para sets.\n",
        "* tuple_iterator para tuplas.\n",
        "* set_iterator para sets.\n",
        "* dict_keyiterator para diccionarios."
      ],
      "metadata": {
        "id": "yXHeWGAaVvH1"
      }
    },
    {
      "cell_type": "code",
      "source": [
        "lista = [5, 6, 7]\n",
        "it1 = iter(lista)\n",
        "it2 = iter(lista)\n",
        "print(next(it1)) #5\n",
        "print(next(it1)) #6\n",
        "print(next(it1)) #7\n",
        "print(next(it2)) #5"
      ],
      "metadata": {
        "colab": {
          "base_uri": "https://localhost:8080/"
        },
        "id": "PIxKXNP9VxTd",
        "outputId": "810e7d01-89ea-4ed4-9a7c-c1cac81efebf"
      },
      "execution_count": null,
      "outputs": [
        {
          "output_type": "stream",
          "name": "stdout",
          "text": [
            "5\n",
            "6\n",
            "7\n",
            "5\n"
          ]
        }
      ]
    },
    {
      "cell_type": "markdown",
      "source": [
        "# For anidados\n",
        "> Es posible anidar los for, es decir, meter uno dentro de otro. Esto puede ser muy útil si queremos iterar algún objeto que en cada elemento, tiene a su vez otra clase iterable. Podemos tener por ejemplo, una lista de listas, una especie de matriz."
      ],
      "metadata": {
        "id": "K4HqpC7vWqE1"
      }
    },
    {
      "cell_type": "code",
      "source": [
        "lista = [[56, 34, 1],\n",
        "         [12, 4, 5],\n",
        "         [9, 4, 3]]"
      ],
      "metadata": {
        "id": "eOsvGfDmWxFE"
      },
      "execution_count": null,
      "outputs": []
    },
    {
      "cell_type": "code",
      "source": [
        "# Si iteramos usando sólo un for, estaremos realmente accediendo a la segunda lista, pero no a los elementos individuales.\n",
        "lista = [[56, 34, 1],\n",
        "         [12, 4, 5],\n",
        "         [9, 4, 3]]\n",
        "\n",
        "\n",
        "for i in lista:\n",
        "    print(i)\n"
      ],
      "metadata": {
        "colab": {
          "base_uri": "https://localhost:8080/"
        },
        "id": "17bE4rJOWzp1",
        "outputId": "3da14575-c712-4772-f6ad-b80cfc2ade8a"
      },
      "execution_count": null,
      "outputs": [
        {
          "output_type": "stream",
          "name": "stdout",
          "text": [
            "[56, 34, 1]\n",
            "[12, 4, 5]\n",
            "[9, 4, 3]\n"
          ]
        }
      ]
    },
    {
      "cell_type": "code",
      "source": [
        "# Si queremos acceder a cada elemento individualmente, podemos anidar dos for. Uno de ellos se encargará de iterar las columnas y el otro las filas.\n",
        "for i in lista:\n",
        "    for j in i:\n",
        "        print(j)"
      ],
      "metadata": {
        "colab": {
          "base_uri": "https://localhost:8080/"
        },
        "id": "9HztKJEwXFKc",
        "outputId": "d4d79997-b73d-4d98-f5fc-7dadfed15b56"
      },
      "execution_count": null,
      "outputs": [
        {
          "output_type": "stream",
          "name": "stdout",
          "text": [
            "56\n",
            "34\n",
            "1\n",
            "12\n",
            "4\n",
            "5\n",
            "9\n",
            "4\n",
            "3\n"
          ]
        }
      ]
    },
    {
      "cell_type": "markdown",
      "source": [
        "# Range en Python\n",
        "\n",
        "Uno de las iteraciones mas comunes que se realizan, es la de iterar un número entre por ejemplo 0 y n. Si ya programas, estoy seguro de que estas cansado de escribir esto, aunque sea en otro lenguaje. Pongamos que queremos iterar una variable i de 0 a 5. Haciendo uso de lo que hemos visto anteriormente, podríamos hacer lo siguiente."
      ],
      "metadata": {
        "id": "7dLdFEEwX5k8"
      }
    },
    {
      "cell_type": "code",
      "source": [
        "for i in (0, 1, 2, 3, 4, 5):\n",
        "  print(i)"
      ],
      "metadata": {
        "colab": {
          "base_uri": "https://localhost:8080/"
        },
        "id": "7_IAzKbAYA0G",
        "outputId": "756c901d-5850-4365-c651-e8cd98e51ad6"
      },
      "execution_count": null,
      "outputs": [
        {
          "output_type": "stream",
          "name": "stdout",
          "text": [
            "0\n",
            "1\n",
            "2\n",
            "3\n",
            "4\n",
            "5\n"
          ]
        }
      ]
    },
    {
      "cell_type": "code",
      "source": [
        "# También podemos usar range\n",
        "for i in range(6):\n",
        "  print(i)"
      ],
      "metadata": {
        "colab": {
          "base_uri": "https://localhost:8080/"
        },
        "id": "lK3yy44WYIFI",
        "outputId": "7b5f441d-1421-4fa5-b53f-71cbaec2e5ca"
      },
      "execution_count": null,
      "outputs": [
        {
          "output_type": "stream",
          "name": "stdout",
          "text": [
            "0\n",
            "1\n",
            "2\n",
            "3\n",
            "4\n",
            "5\n"
          ]
        }
      ]
    },
    {
      "cell_type": "code",
      "source": [
        "print(list(range(5, 20, 2)))"
      ],
      "metadata": {
        "colab": {
          "base_uri": "https://localhost:8080/"
        },
        "id": "6nehwk7UYaNO",
        "outputId": "7a530a93-1e09-43c4-bd3e-964b2dc1be18"
      },
      "execution_count": null,
      "outputs": [
        {
          "output_type": "stream",
          "name": "stdout",
          "text": [
            "[5, 7, 9, 11, 13, 15, 17, 19]\n"
          ]
        }
      ]
    },
    {
      "cell_type": "markdown",
      "source": [
        "# Bucle While\n",
        ">El uso del while nos permite ejecutar una sección de código repetidas veces, de ahí su nombre. El código se ejecutará mientras una condición determinada se cumpla. Cuando se deje de cumplir, se saldrá del bucle y se continuará la ejecución normal. Llamaremos iteración a una ejecución completa del bloque de código."
      ],
      "metadata": {
        "id": "_gANgzJiRuPt"
      }
    },
    {
      "cell_type": "code",
      "source": [
        "x = 5\n",
        "while x > 0:\n",
        "  x -= 1\n",
        "  print(x)"
      ],
      "metadata": {
        "colab": {
          "base_uri": "https://localhost:8080/"
        },
        "id": "nkmneM8AR4F9",
        "outputId": "bf085f39-cc9f-4426-b7a5-ba647100503a"
      },
      "execution_count": 1,
      "outputs": [
        {
          "output_type": "stream",
          "name": "stdout",
          "text": [
            "4\n",
            "3\n",
            "2\n",
            "1\n",
            "0\n"
          ]
        }
      ]
    },
    {
      "cell_type": "code",
      "source": [
        "x = 10\n",
        "while x < 20:\n",
        "  x += 1\n",
        "  print(x)"
      ],
      "metadata": {
        "colab": {
          "base_uri": "https://localhost:8080/"
        },
        "id": "dlcdvimHSF65",
        "outputId": "21b1749a-b87c-4b7b-999b-55bbd08773d8"
      },
      "execution_count": 7,
      "outputs": [
        {
          "output_type": "stream",
          "name": "stdout",
          "text": [
            "11\n",
            "12\n",
            "13\n",
            "14\n",
            "15\n",
            "16\n",
            "17\n",
            "18\n",
            "19\n",
            "20\n"
          ]
        }
      ]
    },
    {
      "cell_type": "code",
      "source": [
        "x = 5\n",
        "while x > 0: x-=1; print(x)"
      ],
      "metadata": {
        "colab": {
          "base_uri": "https://localhost:8080/"
        },
        "id": "6yPUHnF9TQt6",
        "outputId": "06686d66-0198-4ca0-a30e-93559a06efdc"
      },
      "execution_count": 8,
      "outputs": [
        {
          "output_type": "stream",
          "name": "stdout",
          "text": [
            "4\n",
            "3\n",
            "2\n",
            "1\n",
            "0\n"
          ]
        }
      ]
    },
    {
      "cell_type": "markdown",
      "source": [
        "x = 5\n",
        "while x > 0:\n",
        "  x -=1\n",
        "  print(x)\n",
        "else:\n",
        "    print(\"El bucle ha finalizado\")"
      ],
      "metadata": {
        "id": "SMI3--o0Teqf"
      }
    },
    {
      "cell_type": "code",
      "source": [
        "# Permutación a generar\n",
        "i = 0\n",
        "j = 0\n",
        "while i < 3:\n",
        "    while j < 3:\n",
        "        print(i,j)\n",
        "        j += 1\n",
        "    i += 1\n",
        "    j = 0"
      ],
      "metadata": {
        "colab": {
          "base_uri": "https://localhost:8080/"
        },
        "id": "EcomBmQGUK2v",
        "outputId": "8395c11b-f64c-4933-f8f1-84e5bbe858a2"
      },
      "execution_count": 22,
      "outputs": [
        {
          "output_type": "stream",
          "name": "stdout",
          "text": [
            "0 0\n",
            "0 1\n",
            "0 2\n",
            "1 0\n",
            "1 1\n",
            "1 2\n",
            "2 0\n",
            "2 1\n",
            "2 2\n"
          ]
        }
      ]
    },
    {
      "cell_type": "code",
      "source": [
        "i, j, k = 0, 0, 0\n",
        "while i < 3:\n",
        "  while j < 3:\n",
        "    while k < 3:\n",
        "      print(i,j,k)\n",
        "      k += 1\n",
        "      j += 1\n",
        "    k = 0\n",
        "  i += 1\n",
        "  j = 0"
      ],
      "metadata": {
        "colab": {
          "base_uri": "https://localhost:8080/"
        },
        "id": "5aAVGk2pVN48",
        "outputId": "b6a40daa-e5a3-4ec2-fdaf-038108aa694a"
      },
      "execution_count": 20,
      "outputs": [
        {
          "output_type": "stream",
          "name": "stdout",
          "text": [
            "0 0 0\n",
            "0 1 1\n",
            "0 2 2\n",
            "1 0 0\n",
            "1 1 1\n",
            "1 2 2\n",
            "2 0 0\n",
            "2 1 1\n",
            "2 2 2\n"
          ]
        }
      ]
    },
    {
      "cell_type": "code",
      "source": [
        "text = \"Python\"\n",
        "i = 0\n",
        "while i < len(text):\n",
        "  print(text[:i + 1])\n",
        "  i += 1"
      ],
      "metadata": {
        "colab": {
          "base_uri": "https://localhost:8080/"
        },
        "id": "eBVXlb_gWT-X",
        "outputId": "91553747-5670-4fde-9156-e0a80c65f610"
      },
      "execution_count": 23,
      "outputs": [
        {
          "output_type": "stream",
          "name": "stdout",
          "text": [
            "P\n",
            "Py\n",
            "Pyt\n",
            "Pyth\n",
            "Pytho\n",
            "Python\n"
          ]
        }
      ]
    },
    {
      "cell_type": "code",
      "source": [
        "a, b = 0, 1\n",
        "while b < 25:\n",
        "  print(b)\n",
        "  a, b = b, a + b"
      ],
      "metadata": {
        "colab": {
          "base_uri": "https://localhost:8080/"
        },
        "id": "nuQrVD7LXIlp",
        "outputId": "2d09e67f-bbdb-408f-b356-7675d8cb8e23"
      },
      "execution_count": 24,
      "outputs": [
        {
          "output_type": "stream",
          "name": "stdout",
          "text": [
            "1\n",
            "1\n",
            "2\n",
            "3\n",
            "5\n",
            "8\n",
            "13\n",
            "21\n"
          ]
        }
      ]
    },
    {
      "cell_type": "code",
      "source": [
        ""
      ],
      "metadata": {
        "id": "vOk0OrLmYWxe"
      },
      "execution_count": 28,
      "outputs": []
    }
  ]
}